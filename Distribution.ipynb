{
 "cells": [
  {
   "cell_type": "markdown",
   "metadata": {},
   "source": [
    "# Boosting and Bagging "
   ]
  },
  {
   "cell_type": "code",
   "execution_count": null,
   "metadata": {},
   "outputs": [],
   "source": [
    "#https://medium.com/greyatom/a-quick-guide-to-boosting-in-ml-acf7c1585cb5\\\n",
    "#https://www.youtube.com/watch?v=m-S9Hojj1as&index=16&list=PLVBorYCcu-xWBPu3o73uj2FJ_7dp6g-pr\n",
    "#https://www.analyticsvidhya.com/blog/2017/03/imbalanced-classification-problem/ - Deal with class imbalace"
   ]
  },
  {
   "cell_type": "markdown",
   "metadata": {},
   "source": [
    "# Data Distribution"
   ]
  },
  {
   "cell_type": "code",
   "execution_count": null,
   "metadata": {},
   "outputs": [],
   "source": [
    "#Distribution is relationship between observations in a sample space.\n",
    "#A distribution is simply a collection of data, or scores, on a variable. Usually, these scores are arranged in order from \n",
    "#smallest to largest and then they can be presented graphically.\n",
    "\n",
    "#https://machinelearningmastery.com/statistical-data-distributions/\n",
    "\n",
    "#https://www.youtube.com/watch?v=rzFX5NWojp0\n",
    "\n",
    "#Normal Distribution is always centered on mean or average. Width of curve represents the standard deviations.\n",
    "#Knowing the standard deviation is helpful because normal curve is drawn in such a way that 95% of teh measurment fall between\n",
    "#+/- standard deviation around mean. example babied std is .6 and men is 4 and mean for babies is 20 and men is 70 so. \n",
    "#data is fall in between for babies is 20+/-.3 and 70+/-2\n",
    "\n",
    "#####################  Uniform Distribution  ############################\n",
    "\n",
    "#Uniform distribution is equal probability of selecting values between 0 and 1.\n",
    "\n"
   ]
  },
  {
   "cell_type": "markdown",
   "metadata": {},
   "source": [
    "# Central Limit Theorem"
   ]
  },
  {
   "cell_type": "code",
   "execution_count": null,
   "metadata": {},
   "outputs": [],
   "source": [
    "#https://www.youtube.com/watch?v=YAlJCEDH2uY&t=238s\n",
    "#https://towardsdatascience.com/the-only-theorem-data-scientists-need-to-know-a50a263d013c\n",
    "\n",
    "#The central limit theorem (CLT) is simple. It just says that with a large sample size, sample means are normally distributed.\n",
    "#Default poeple says that sample should be 30. CLT used mainly in Null hhypothesis.\n",
    "\n",
    "#A sample mean is the average of a random subset of a larger group. So if you randomly picked 10 people out of 100 and \n",
    "#recorded their heights, the average of those 10 heights would be the sample mean.\n",
    "\n",
    "# We can draw histogram of that mean and make a bell curve. we will have to take 100 means and make bell curve.\n",
    "\n",
    "#It doesn't matter what distribution you start with but the mean will normally distributed.\n",
    "\n",
    "# We can use mean normal distribution to make confidence interval. If there is diff b/w of mean of two samples than it is called \n",
    "#t test while annova is diff among the mean of three or more samples.\n",
    "\n",
    "#how do you understand how likely some data is when your hypothesis is wrong? To do this you need to construct the range of \n",
    "#values you could see given that your hypothesis is wrong, and then assess the likelihood of your observed value in that context.\n",
    "#Luckily this is exactly what the CLT allows you to do."
   ]
  }
 ],
 "metadata": {
  "kernelspec": {
   "display_name": "Python 3",
   "language": "python",
   "name": "python3"
  },
  "language_info": {
   "codemirror_mode": {
    "name": "ipython",
    "version": 3
   },
   "file_extension": ".py",
   "mimetype": "text/x-python",
   "name": "python",
   "nbconvert_exporter": "python",
   "pygments_lexer": "ipython3",
   "version": "3.7.0"
  }
 },
 "nbformat": 4,
 "nbformat_minor": 2
}
