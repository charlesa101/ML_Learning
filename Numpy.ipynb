{
 "cells": [
  {
   "cell_type": "markdown",
   "metadata": {},
   "source": [
    "# Numpy Tutorials"
   ]
  },
  {
   "cell_type": "code",
   "execution_count": null,
   "metadata": {},
   "outputs": [],
   "source": [
    "#Numpy is very similer to list. Numpy requires less memory, fast and convinient in compare to lists. Examples"
   ]
  },
  {
   "cell_type": "code",
   "execution_count": 3,
   "metadata": {},
   "outputs": [
    {
     "name": "stdout",
     "output_type": "stream",
     "text": [
      "28000\n",
      "4000\n"
     ]
    }
   ],
   "source": [
    "import numpy as np\n",
    "import time\n",
    "import sys\n",
    "\n",
    "l=range(1000)\n",
    "print(sys.getsizeof(5)*len(l))  #28000 bytes\n",
    "array=np.arange(1000)\n",
    "print(array.size*array.itemsize) #4000 bytes"
   ]
  },
  {
   "cell_type": "code",
   "execution_count": 13,
   "metadata": {
    "scrolled": true
   },
   "outputs": [
    {
     "data": {
      "text/plain": [
       "(2, 2)"
      ]
     },
     "execution_count": 13,
     "metadata": {},
     "output_type": "execute_result"
    }
   ],
   "source": [
    "a=np.array([5,6,8]) # We can create numpy array like list and process same as list. It is one dimension array\n",
    "a[0]\n",
    "\n",
    "a1=np.array([[1,2],[3,4]]) # dimentional array\n",
    "a1.ndim # print dimension\n",
    "a1.itemsize # Will give byte size of each element\n",
    "a1.dtype\n",
    "\n",
    "a2=np.array([[1,2],[3,4]], dtype=np.float64)\n",
    "a2.itemsize # Itemsize of float is 8 byte per element\n",
    "a2\n",
    "a2.size #Size of array\n",
    "a2.shape # Two rows and two columns"
   ]
  },
  {
   "cell_type": "code",
   "execution_count": 20,
   "metadata": {},
   "outputs": [
    {
     "data": {
      "text/plain": [
       "(4,)"
      ]
     },
     "execution_count": 20,
     "metadata": {},
     "output_type": "execute_result"
    }
   ],
   "source": [
    "import numpy as np\n",
    "np.zeros((3,2))\n",
    "np.ones((4,5)) # To show zeros and ones in numpy\n",
    "\n",
    "l=range(5) # It will create list of length 5\n",
    "a=np.arange(1,5) # Behaves like list range function\n",
    "a1=np.arange(1,8,2) #2 is step size\n",
    "a2=np.linspace(1,5,10) #10 is numbers to be generated\n",
    "a.reshape(2,3) # to reshape your matrix\n",
    "a.ravel() # Make it one dimention or flatten that array. These function will not alter the orignal array\n",
    "\n",
    "#a.min(),a.max(),a.sum() or a.sum(axis=1), np.sqrt(a), a+b, a*b,a-b, adot(b) - will give matrix product\n"
   ]
  },
  {
   "cell_type": "markdown",
   "metadata": {},
   "source": [
    "# Slicing and Dicing"
   ]
  },
  {
   "cell_type": "code",
   "execution_count": 26,
   "metadata": {
    "scrolled": true
   },
   "outputs": [
    {
     "ename": "IndexError",
     "evalue": "too many indices for array",
     "output_type": "error",
     "traceback": [
      "\u001b[1;31m---------------------------------------------------------------------------\u001b[0m",
      "\u001b[1;31mIndexError\u001b[0m                                Traceback (most recent call last)",
      "\u001b[1;32m<ipython-input-26-c76a1da044d3>\u001b[0m in \u001b[0;36m<module>\u001b[1;34m()\u001b[0m\n\u001b[0;32m     14\u001b[0m \u001b[0ma\u001b[0m\u001b[1;33m[\u001b[0m\u001b[1;33m-\u001b[0m\u001b[1;36m1\u001b[0m\u001b[1;33m]\u001b[0m \u001b[1;31m# Last row\u001b[0m\u001b[1;33m\u001b[0m\u001b[0m\n\u001b[0;32m     15\u001b[0m \u001b[0ma\u001b[0m\u001b[1;33m[\u001b[0m\u001b[1;33m-\u001b[0m\u001b[1;36m1\u001b[0m\u001b[1;33m,\u001b[0m\u001b[1;36m0\u001b[0m\u001b[1;33m:\u001b[0m\u001b[1;36m2\u001b[0m\u001b[1;33m]\u001b[0m \u001b[1;31m# Last two columns of last two rows\u001b[0m\u001b[1;33m\u001b[0m\u001b[0m\n\u001b[1;32m---> 16\u001b[1;33m \u001b[0ma\u001b[0m\u001b[1;33m[\u001b[0m\u001b[1;33m:\u001b[0m\u001b[1;33m,\u001b[0m\u001b[1;36m1\u001b[0m\u001b[1;33m,\u001b[0m\u001b[1;36m3\u001b[0m\u001b[1;33m]\u001b[0m  \u001b[1;31m# All rows and last two columns\u001b[0m\u001b[1;33m\u001b[0m\u001b[0m\n\u001b[0m\u001b[0;32m     17\u001b[0m \u001b[1;33m\u001b[0m\u001b[0m\n\u001b[0;32m     18\u001b[0m \u001b[1;32mfor\u001b[0m \u001b[0mrow\u001b[0m \u001b[1;32min\u001b[0m \u001b[0ma\u001b[0m\u001b[1;33m:\u001b[0m\u001b[1;33m\u001b[0m\u001b[0m\n",
      "\u001b[1;31mIndexError\u001b[0m: too many indices for array"
     ]
    }
   ],
   "source": [
    "import numpy as np\n",
    "n=[6,7,8]\n",
    "n[0:2] # It will not cover2 \n",
    "n[-1]\n",
    "\n",
    "a=np.array([6,7,8])\n",
    "a[0:2]\n",
    "a[-1]\n",
    "\n",
    "a=np.array([[6,7,8],[1,2,3],[9,3,2]])\n",
    "a\n",
    "a[0,2]\n",
    "a[0:2,2] #0:2 will give rows and last 2 traverse column\n",
    "a[-1] # Last row\n",
    "a[-1,0:2] # Last two columns of last two rows\n",
    "a[:,1,3]  # All rows and last two columns\n",
    "\n",
    "for row in a:\n",
    "    print(row)   # print the mitrix\n",
    "    \n",
    "for cell in a.flat:\n",
    "    print(cell)"
   ]
  },
  {
   "cell_type": "code",
   "execution_count": 40,
   "metadata": {},
   "outputs": [
    {
     "data": {
      "text/plain": [
       "[array([[ 0,  1,  2,  3,  4],\n",
       "        [15, 16, 17, 18, 19]]), array([[ 5,  6,  7,  8,  9],\n",
       "        [20, 21, 22, 23, 24]]), array([[10, 11, 12, 13, 14],\n",
       "        [25, 26, 27, 28, 29]])]"
      ]
     },
     "execution_count": 40,
     "metadata": {},
     "output_type": "execute_result"
    }
   ],
   "source": [
    "import numpy as np\n",
    "b=np.arange(6).reshape(3,2)\n",
    "b\n",
    "\n",
    "c=np.arange(6,12).reshape(3,2) # arange will give 6 to 12 numbers\n",
    "c\n",
    "\n",
    "np.vstack((b,c)) # Stacking the two matrixes or place one box on other on top of it.\n",
    "np.hstack((b,c))\n",
    "\n",
    "g=np.arange(30).reshape(2,15)\n",
    "g\n",
    "np.hsplit(g,3) # Divide or split into 3 equalt array\n",
    "\n",
    "result= np.hsplit(g,3)\n",
    "result"
   ]
  },
  {
   "cell_type": "code",
   "execution_count": 46,
   "metadata": {},
   "outputs": [
    {
     "data": {
      "text/plain": [
       "array([[1, 1, 1],\n",
       "       [1, 2, 3],\n",
       "       [1, 3, 2]])"
      ]
     },
     "execution_count": 46,
     "metadata": {},
     "output_type": "execute_result"
    }
   ],
   "source": [
    "import numpy as np\n",
    "Sample=np.arange(12).reshape(3,4)\n",
    "b= a>4\n",
    "b\n",
    "a[b] #Fetch all the element which is greater than 4\n",
    "a[b] =1 #We are set the 1 value whose is greater than 4\n",
    "a"
   ]
  },
  {
   "cell_type": "code",
   "execution_count": 53,
   "metadata": {},
   "outputs": [
    {
     "name": "stdout",
     "output_type": "stream",
     "text": [
      "0\n",
      "1\n",
      "2\n",
      "3\n",
      "4\n",
      "5\n",
      "6\n",
      "7\n",
      "8\n",
      "9\n",
      "10\n",
      "11\n",
      "0\n",
      "1\n",
      "2\n",
      "3\n",
      "4\n",
      "5\n",
      "6\n",
      "7\n",
      "8\n",
      "9\n",
      "10\n",
      "11\n",
      "[ 8  9 10 11]\n",
      "[ 8  9 10 11]\n",
      "[ 8  9 10 11]\n",
      "[ 8  9 10 11]\n",
      "[ 8  9 10 11]\n",
      "[ 8  9 10 11]\n",
      "[ 8  9 10 11]\n",
      "[ 8  9 10 11]\n",
      "[ 8  9 10 11]\n",
      "[ 8  9 10 11]\n",
      "[ 8  9 10 11]\n",
      "[ 8  9 10 11]\n",
      "0 3\n",
      "1 3\n",
      "2 3\n",
      "3 3\n",
      "4 7\n",
      "5 7\n",
      "6 7\n",
      "7 7\n",
      "8 11\n",
      "9 11\n",
      "10 11\n",
      "11 11\n"
     ]
    }
   ],
   "source": [
    "import numpy as pd\n",
    "a = np.arange(12).reshape(3,4)\n",
    "for row in a:\n",
    "    for cell in row:\n",
    "        print(cell)    # It will flaten the elements or print every element. or u can do in thsi way also\n",
    "        \n",
    "for cell in a.flatten():\n",
    "    print(cell)\n",
    "    \n",
    "for rows in np.nditer(a,order='C'): # c for c or row wise traversing or f for coulumn wise traversing and itteration is for element wise \n",
    "    print(row)\n",
    "\n",
    "b=np.arange(3,15,4).reshape(3,1)\n",
    "b\n",
    "\n",
    "for x,y in np.nditer([a,b]): # Iteration of both the array simultanously. Shapes should be same for both the array\n",
    "    print(x,y)"
   ]
  },
  {
   "cell_type": "code",
   "execution_count": null,
   "metadata": {},
   "outputs": [],
   "source": []
  }
 ],
 "metadata": {
  "kernelspec": {
   "display_name": "Python 3",
   "language": "python",
   "name": "python3"
  },
  "language_info": {
   "codemirror_mode": {
    "name": "ipython",
    "version": 3
   },
   "file_extension": ".py",
   "mimetype": "text/x-python",
   "name": "python",
   "nbconvert_exporter": "python",
   "pygments_lexer": "ipython3",
   "version": "3.7.0"
  }
 },
 "nbformat": 4,
 "nbformat_minor": 2
}
